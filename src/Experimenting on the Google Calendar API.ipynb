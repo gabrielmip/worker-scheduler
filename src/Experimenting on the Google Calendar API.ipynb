{
 "cells": [
  {
   "cell_type": "code",
   "execution_count": null,
   "metadata": {},
   "outputs": [],
   "source": [
    "%reload_ext autoreload\n",
    "%autoreload 2"
   ]
  },
  {
   "cell_type": "code",
   "execution_count": 92,
   "metadata": {},
   "outputs": [],
   "source": [
    "import json\n",
    "\n",
    "def pretty(d):\n",
    "    print(json.dumps(d, indent=2, sort_keys=True, default=lambda o: str(o)))"
   ]
  },
  {
   "cell_type": "code",
   "execution_count": 47,
   "metadata": {},
   "outputs": [],
   "source": [
    "\n",
    "import datetime\n",
    "import pickle\n",
    "import os.path\n",
    "from googleapiclient.discovery import build\n",
    "from google_auth_oauthlib.flow import InstalledAppFlow\n",
    "from google.auth.transport.requests import Request\n",
    "\n",
    "# If modifying these scopes, delete the file token.pickle.\n",
    "SCOPES = ['https://www.googleapis.com/auth/calendar']\n",
    "\n",
    "creds = None\n",
    "# The file token.pickle stores the user's access and refresh tokens, and is\n",
    "# created automatically when the authorization flow completes for the first\n",
    "# time.\n",
    "if os.path.exists('token.pickle'):\n",
    "    with open('token.pickle', 'rb') as token:\n",
    "        creds = pickle.load(token)\n",
    "# If there are no (valid) credentials available, let the user log in.\n",
    "if not creds or not creds.valid:\n",
    "    if creds and creds.expired and creds.refresh_token:\n",
    "        creds.refresh(Request())\n",
    "    else:\n",
    "        flow = InstalledAppFlow.from_client_secrets_file(\n",
    "            '/home/gabriel/credentials.json', SCOPES)\n",
    "        creds = flow.run_local_server(port=0)\n",
    "    # Save the credentials for the next run\n",
    "    with open('token.pickle', 'wb') as token:\n",
    "        pickle.dump(creds, token)\n",
    "\n",
    "service = build('calendar', 'v3', credentials=creds)"
   ]
  },
  {
   "cell_type": "markdown",
   "metadata": {},
   "source": [
    "# Retrieving schedule calendars\n",
    "\n",
    "The filter by the prefix is just for illustration. Each created schedule would be stored in the database pointing it to the worker it related to."
   ]
  },
  {
   "cell_type": "code",
   "execution_count": 75,
   "metadata": {},
   "outputs": [
    {
     "name": "stdout",
     "output_type": "stream",
     "text": [
      "[RDC] Agenda do Washington: h58u1l9cd2f9is19gdec6vm4qs@group.calendar.google.com\n",
      "[RDC] Agenda do Robson: 8ne3s7igp7vvikg00cm3ml9c3c@group.calendar.google.com\n"
     ]
    }
   ],
   "source": [
    "all_calendars = service.calendarList().list().execute()\n",
    "schedule_name_prefix = \"[RDC]\"\n",
    "\n",
    "for calendar in all_calendars['items']:\n",
    "    if calendar['summary'].startswith(schedule_name_prefix):\n",
    "        print(f\"{calendar['summary']}: {calendar['id']}\")\n",
    "\n",
    "worker_schedules = [\n",
    "    {'id': calendar['id']}\n",
    "    for calendar in all_calendars['items']\n",
    "    if calendar['summary'].startswith(schedule_name_prefix)\n",
    "]"
   ]
  },
  {
   "cell_type": "markdown",
   "metadata": {},
   "source": [
    "# Creating a schedule for a worker"
   ]
  },
  {
   "cell_type": "code",
   "execution_count": 70,
   "metadata": {},
   "outputs": [
    {
     "data": {
      "text/plain": [
       "{'kind': 'calendar#calendar',\n",
       " 'etag': '\"TtCNGp6X2MOylShgi0mPuHKaiRY\"',\n",
       " 'id': '8ne3s7igp7vvikg00cm3ml9c3c@group.calendar.google.com',\n",
       " 'summary': '[RDC] Agenda do Robson',\n",
       " 'timeZone': 'America/Sao_Paulo',\n",
       " 'conferenceProperties': {'allowedConferenceSolutionTypes': ['eventHangout']}}"
      ]
     },
     "execution_count": 70,
     "metadata": {},
     "output_type": "execute_result"
    }
   ],
   "source": [
    "calendars_service = service.calendars()\n",
    "timezone = 'America/Sao_Paulo'\n",
    "body = {\n",
    "    \"kind\": \"calendar#calendar\",\n",
    "    \"summary\": f\"{schedule_name_prefix} Agenda do Robson\",\n",
    "    \"timeZone\": timezone\n",
    "}\n",
    "request = calendars_service.insert(body=body)\n",
    "# request.execute()"
   ]
  },
  {
   "cell_type": "markdown",
   "metadata": {},
   "source": [
    "# Getting free time slots from workers"
   ]
  },
  {
   "cell_type": "code",
   "execution_count": 86,
   "metadata": {},
   "outputs": [],
   "source": [
    "import arrow, datetime\n",
    "\n",
    "timezone = 'America/Sao_Paulo'\n",
    "working_day_start = arrow.get(datetime.datetime(2020, 3, 19, 18), timezone)\n",
    "working_day_end = arrow.get(datetime.datetime(2020, 3, 19, 21, 30), timezone)\n",
    "\n",
    "freebusy_response = service.freebusy().query(body={\n",
    "    \"calendarExpansionMax\": len(worker_schedules),\n",
    "    \"groupExpansionMax\": 0,\n",
    "    \"timeMax\": working_day_end.isoformat(),\n",
    "    \"items\": worker_schedules,\n",
    "    \"timeMin\": working_day_start.isoformat(),\n",
    "    \"timeZone\": timezone\n",
    "}).execute()\n",
    "\n",
    "def busy_item_to_dates(busy_item):\n",
    "    return {\n",
    "        key: arrow.get(value)\n",
    "        for key, value in busy_item.items()\n",
    "    }\n",
    "\n",
    "busy_times_by_calendar = {\n",
    "    calendar_id: [busy_item_to_dates(busy_item) for busy_item in calendar['busy']]\n",
    "    for calendar_id, calendar in freebusy_response['calendars'].items()\n",
    "}"
   ]
  },
  {
   "cell_type": "code",
   "execution_count": 93,
   "metadata": {},
   "outputs": [
    {
     "name": "stdout",
     "output_type": "stream",
     "text": [
      "{\n",
      "  \"calendars\": {\n",
      "    \"8ne3s7igp7vvikg00cm3ml9c3c@group.calendar.google.com\": {\n",
      "      \"busy\": []\n",
      "    },\n",
      "    \"h58u1l9cd2f9is19gdec6vm4qs@group.calendar.google.com\": {\n",
      "      \"busy\": [\n",
      "        {\n",
      "          \"end\": \"2020-03-19T20:30:00-03:00\",\n",
      "          \"start\": \"2020-03-19T19:30:00-03:00\"\n",
      "        }\n",
      "      ]\n",
      "    }\n",
      "  },\n",
      "  \"kind\": \"calendar#freeBusy\",\n",
      "  \"timeMax\": \"2020-03-20T00:30:00.000Z\",\n",
      "  \"timeMin\": \"2020-03-19T21:00:00.000Z\"\n",
      "}\n"
     ]
    }
   ],
   "source": [
    "pretty(freebusy_response)"
   ]
  },
  {
   "cell_type": "code",
   "execution_count": 94,
   "metadata": {},
   "outputs": [
    {
     "name": "stdout",
     "output_type": "stream",
     "text": [
      "{\n",
      "  \"8ne3s7igp7vvikg00cm3ml9c3c@group.calendar.google.com\": [],\n",
      "  \"h58u1l9cd2f9is19gdec6vm4qs@group.calendar.google.com\": [\n",
      "    {\n",
      "      \"end\": \"2020-03-19T20:30:00-03:00\",\n",
      "      \"start\": \"2020-03-19T19:30:00-03:00\"\n",
      "    }\n",
      "  ]\n",
      "}\n"
     ]
    }
   ],
   "source": [
    "pretty(busy_times_by_calendar)"
   ]
  },
  {
   "cell_type": "code",
   "execution_count": 95,
   "metadata": {},
   "outputs": [],
   "source": [
    "def is_slot_available(busy_times_by_calendar, start_time, duration_in_minutes):\n",
    "    pass"
   ]
  }
 ],
 "metadata": {
  "kernelspec": {
   "display_name": "Python 3",
   "language": "python",
   "name": "python3"
  },
  "language_info": {
   "codemirror_mode": {
    "name": "ipython",
    "version": 3
   },
   "file_extension": ".py",
   "mimetype": "text/x-python",
   "name": "python",
   "nbconvert_exporter": "python",
   "pygments_lexer": "ipython3",
   "version": "3.8.2"
  }
 },
 "nbformat": 4,
 "nbformat_minor": 4
}
