{
 "cells": [
  {
   "cell_type": "code",
   "execution_count": 1,
   "metadata": {},
   "outputs": [],
   "source": [
    "%reload_ext autoreload\n",
    "%autoreload 2"
   ]
  },
  {
   "cell_type": "code",
   "execution_count": 2,
   "metadata": {},
   "outputs": [],
   "source": [
    "import json\n",
    "\n",
    "def pretty(d):\n",
    "    print(json.dumps(d, indent=2, sort_keys=True, default=lambda o: str(o)))"
   ]
  },
  {
   "cell_type": "code",
   "execution_count": 3,
   "metadata": {},
   "outputs": [],
   "source": [
    "import datetime\n",
    "import pickle\n",
    "import os.path\n",
    "from googleapiclient.discovery import build\n",
    "from google_auth_oauthlib.flow import InstalledAppFlow\n",
    "from google.auth.transport.requests import Request\n",
    "\n",
    "# If modifying these scopes, delete the file token.pickle.\n",
    "SCOPES = ['https://www.googleapis.com/auth/calendar']\n",
    "\n",
    "creds = None\n",
    "# The file token.pickle stores the user's access and refresh tokens, and is\n",
    "# created automatically when the authorization flow completes for the first\n",
    "# time.\n",
    "if os.path.exists('token.pickle'):\n",
    "    with open('token.pickle', 'rb') as token:\n",
    "        creds = pickle.load(token)\n",
    "# If there are no (valid) credentials available, let the user log in.\n",
    "if not creds or not creds.valid:\n",
    "    if creds and creds.expired and creds.refresh_token:\n",
    "        creds.refresh(Request())\n",
    "    else:\n",
    "        flow = InstalledAppFlow.from_client_secrets_file(\n",
    "            '/home/gabriel/credentials.json', SCOPES)\n",
    "        creds = flow.run_local_server(port=0)\n",
    "    # Save the credentials for the next run\n",
    "    with open('token.pickle', 'wb') as token:\n",
    "        pickle.dump(creds, token)\n",
    "\n",
    "service = build('calendar', 'v3', credentials=creds)"
   ]
  },
  {
   "cell_type": "markdown",
   "metadata": {},
   "source": [
    "# Retrieving schedule calendars\n",
    "\n",
    "The filter by the prefix is just for illustration. Each created schedule would be stored in the database pointing it to the worker it related to."
   ]
  },
  {
   "cell_type": "code",
   "execution_count": 4,
   "metadata": {},
   "outputs": [
    {
     "name": "stdout",
     "output_type": "stream",
     "text": [
      "[RDC] Agenda do Washington: h58u1l9cd2f9is19gdec6vm4qs@group.calendar.google.com\n",
      "[RDC] Agenda do Robson: 8ne3s7igp7vvikg00cm3ml9c3c@group.calendar.google.com\n"
     ]
    }
   ],
   "source": [
    "all_calendars = service.calendarList().list().execute()\n",
    "schedule_name_prefix = \"[RDC]\"\n",
    "\n",
    "for calendar in all_calendars['items']:\n",
    "    if calendar['summary'].startswith(schedule_name_prefix):\n",
    "        print(f\"{calendar['summary']}: {calendar['id']}\")\n",
    "\n",
    "worker_schedules = [\n",
    "    {'id': calendar['id']}\n",
    "    for calendar in all_calendars['items']\n",
    "    if calendar['summary'].startswith(schedule_name_prefix)\n",
    "]"
   ]
  },
  {
   "cell_type": "markdown",
   "metadata": {},
   "source": [
    "# Creating a schedule for a worker"
   ]
  },
  {
   "cell_type": "code",
   "execution_count": 5,
   "metadata": {},
   "outputs": [],
   "source": [
    "calendars_service = service.calendars()\n",
    "timezone = 'America/Sao_Paulo'\n",
    "body = {\n",
    "    \"kind\": \"calendar#calendar\",\n",
    "    \"summary\": f\"{schedule_name_prefix} Agenda do Robson\",\n",
    "    \"timeZone\": timezone\n",
    "}\n",
    "request = calendars_service.insert(body=body)\n",
    "# request.execute()"
   ]
  },
  {
   "cell_type": "markdown",
   "metadata": {},
   "source": [
    "# Getting free time slots from workers"
   ]
  },
  {
   "cell_type": "code",
   "execution_count": 21,
   "metadata": {},
   "outputs": [],
   "source": [
    "import arrow, datetime\n",
    "\n",
    "timezone = 'America/Sao_Paulo'\n",
    "working_day_start = arrow.get(datetime.datetime(2020, 3, 19, 18), timezone)\n",
    "working_day_end = arrow.get(datetime.datetime(2020, 3, 19, 21, 30), timezone)\n",
    "\n",
    "freebusy_response = service.freebusy().query(body={\n",
    "    \"calendarExpansionMax\": len(worker_schedules),\n",
    "    \"groupExpansionMax\": 0,\n",
    "    \"timeMax\": working_day_end.isoformat(),\n",
    "    \"items\": worker_schedules,\n",
    "    \"timeMin\": working_day_start.isoformat(),\n",
    "    \"timeZone\": timezone\n",
    "}).execute()\n",
    "\n",
    "def busy_item_to_dates(busy_item):\n",
    "    return (arrow.get(busy_item['start']), arrow.get(busy_item['end']))\n",
    "\n",
    "busy_times_by_calendar = {\n",
    "    calendar_id: [busy_item_to_dates(busy_item) for busy_item in calendar['busy']]\n",
    "    for calendar_id, calendar in freebusy_response['calendars'].items()\n",
    "}"
   ]
  },
  {
   "cell_type": "code",
   "execution_count": 22,
   "metadata": {},
   "outputs": [
    {
     "name": "stdout",
     "output_type": "stream",
     "text": [
      "{\n",
      "  \"calendars\": {\n",
      "    \"8ne3s7igp7vvikg00cm3ml9c3c@group.calendar.google.com\": {\n",
      "      \"busy\": []\n",
      "    },\n",
      "    \"h58u1l9cd2f9is19gdec6vm4qs@group.calendar.google.com\": {\n",
      "      \"busy\": [\n",
      "        {\n",
      "          \"end\": \"2020-03-19T20:30:00-03:00\",\n",
      "          \"start\": \"2020-03-19T19:30:00-03:00\"\n",
      "        }\n",
      "      ]\n",
      "    }\n",
      "  },\n",
      "  \"kind\": \"calendar#freeBusy\",\n",
      "  \"timeMax\": \"2020-03-20T00:30:00.000Z\",\n",
      "  \"timeMin\": \"2020-03-19T21:00:00.000Z\"\n",
      "}\n"
     ]
    }
   ],
   "source": [
    "pretty(freebusy_response)"
   ]
  },
  {
   "cell_type": "code",
   "execution_count": 23,
   "metadata": {},
   "outputs": [
    {
     "name": "stdout",
     "output_type": "stream",
     "text": [
      "{\n",
      "  \"8ne3s7igp7vvikg00cm3ml9c3c@group.calendar.google.com\": [],\n",
      "  \"h58u1l9cd2f9is19gdec6vm4qs@group.calendar.google.com\": [\n",
      "    [\n",
      "      \"2020-03-19T19:30:00-03:00\",\n",
      "      \"2020-03-19T20:30:00-03:00\"\n",
      "    ]\n",
      "  ]\n",
      "}\n"
     ]
    }
   ],
   "source": [
    "pretty(busy_times_by_calendar)"
   ]
  },
  {
   "cell_type": "code",
   "execution_count": 62,
   "metadata": {},
   "outputs": [],
   "source": [
    "import random\n",
    "import logging\n",
    "\n",
    "\n",
    "def get_timeslots_to_analyse(start_time, end_time):\n",
    "    time_being_analysed = start_time\n",
    "    while time_being_analysed < end_time:\n",
    "        yield (time_being_analysed, time_being_analysed.shift(minutes=15))\n",
    "        time_being_analysed = time_being_analysed.shift(minutes=15)\n",
    "\n",
    "        \n",
    "def is_timeslot_outside_range(timeslot, date_range):\n",
    "    comes_before_range = (timeslot[0] <= date_range[0] and timeslot[1] <= date_range[0])\n",
    "    comes_after_range = (timeslot[0] >= date_range[1] and timeslot[1] >= date_range[1])\n",
    "    \n",
    "    return comes_before_range or comes_after_range\n",
    "\n",
    "\n",
    "def is_calendar_available_for_timeslot(busy_times, timeslot):\n",
    "    if not busy_times:\n",
    "        return True\n",
    "    \n",
    "    timeslot_not_conflicting = all(\n",
    "        is_timeslot_outside_range(timeslot, busy_time)\n",
    "        for busy_time in busy_times\n",
    "    )\n",
    "    \n",
    "    return timeslot_not_conflicting\n",
    "\n",
    "\n",
    "def is_timeslot_available(timeslot, busy_times_by_calendar):\n",
    "    calendars = [*busy_times_by_calendar.keys()]\n",
    "    random.shuffle(calendars)\n",
    "    \n",
    "    for calendar in calendars:\n",
    "        busy_times = busy_times_by_calendar[calendar]\n",
    "        \n",
    "        if is_calendar_available_for_timeslot(busy_times, timeslot):\n",
    "            logging.debug(f\"{timeslot[0].format('HH:mm')}-{timeslot[1].format('HH:mm')}: {calendar}\")\n",
    "            return True, calendar\n",
    "\n",
    "    return False, None\n",
    "\n",
    "\n",
    "def get_one_free_timeslot_by_hour(working_day_start, working_day_end):\n",
    "    timeslot_by_hour = {}\n",
    "\n",
    "    for timeslot in get_timeslots_to_analyse(working_day_start, working_day_end):\n",
    "        if timeslot[0].hour in timeslot_by_hour:\n",
    "            continue\n",
    "        \n",
    "        available, calendar = is_timeslot_available(timeslot, busy_times_by_calendar)\n",
    "        \n",
    "        if available:\n",
    "            timeslot_by_hour[timeslot[0].hour] = {\n",
    "                'timeslot': timeslot,\n",
    "                'calendar': calendar\n",
    "            }\n",
    "\n",
    "    return [*timeslot_by_hour.values()]"
   ]
  },
  {
   "cell_type": "code",
   "execution_count": 65,
   "metadata": {},
   "outputs": [
    {
     "name": "stdout",
     "output_type": "stream",
     "text": [
      "[\n",
      "  {\n",
      "    \"calendar\": \"8ne3s7igp7vvikg00cm3ml9c3c@group.calendar.google.com\",\n",
      "    \"timeslot\": [\n",
      "      \"2020-03-19T18:00:00-03:00\",\n",
      "      \"2020-03-19T18:15:00-03:00\"\n",
      "    ]\n",
      "  },\n",
      "  {\n",
      "    \"calendar\": \"8ne3s7igp7vvikg00cm3ml9c3c@group.calendar.google.com\",\n",
      "    \"timeslot\": [\n",
      "      \"2020-03-19T19:00:00-03:00\",\n",
      "      \"2020-03-19T19:15:00-03:00\"\n",
      "    ]\n",
      "  },\n",
      "  {\n",
      "    \"calendar\": \"8ne3s7igp7vvikg00cm3ml9c3c@group.calendar.google.com\",\n",
      "    \"timeslot\": [\n",
      "      \"2020-03-19T20:00:00-03:00\",\n",
      "      \"2020-03-19T20:15:00-03:00\"\n",
      "    ]\n",
      "  },\n",
      "  {\n",
      "    \"calendar\": \"h58u1l9cd2f9is19gdec6vm4qs@group.calendar.google.com\",\n",
      "    \"timeslot\": [\n",
      "      \"2020-03-19T21:00:00-03:00\",\n",
      "      \"2020-03-19T21:15:00-03:00\"\n",
      "    ]\n",
      "  }\n",
      "]\n"
     ]
    }
   ],
   "source": [
    "free_timeslots = get_one_free_timeslot_by_hour(working_day_start, working_day_end)\n",
    "pretty(free_timeslots)"
   ]
  },
  {
   "cell_type": "markdown",
   "metadata": {},
   "source": [
    "# Saving an event"
   ]
  },
  {
   "cell_type": "code",
   "execution_count": 70,
   "metadata": {},
   "outputs": [],
   "source": [
    "request = service.events().insert(\n",
    "    calendarId='h58u1l9cd2f9is19gdec6vm4qs@group.calendar.google.com',\n",
    "    body={\n",
    "        \"summary\": 'Reiki do Roberto',\n",
    "        \"start\": {\n",
    "          \"dateTime\": \"2020-03-19T21:00:00-03:00\"\n",
    "        },\n",
    "        \"end\": {\n",
    "            \"dateTime\": \"2020-03-19T21:30:00-03:00\"\n",
    "        }\n",
    "    }\n",
    ")\n",
    "# response = request.execute()"
   ]
  },
  {
   "cell_type": "markdown",
   "metadata": {},
   "source": [
    "## Response example\n",
    "\n",
    "```\n",
    "{'kind': 'calendar#event',\n",
    " 'etag': '\"3169631813460000\"',\n",
    " 'id': 'ean1ava7ieopsdc6gt44i94tj8',\n",
    " 'status': 'confirmed',\n",
    " 'htmlLink': 'https://www.google.com/calendar/event?eid=ZWFuMWF2YTdpZW9wc2RjNmd0NDRpOTR0ajggaDU4dTFsOWNkMmY5aXMxOWdkZWM2dm00cXNAZw',\n",
    " 'created': '2020-03-21T18:38:26.000Z',\n",
    " 'updated': '2020-03-21T18:38:26.730Z',\n",
    " 'summary': 'Reiki do Roberto',\n",
    " 'creator': {'email': 'reikidaconceicao@gmail.com'},\n",
    " 'organizer': {'email': 'h58u1l9cd2f9is19gdec6vm4qs@group.calendar.google.com',\n",
    "  'displayName': '[RDC] Agenda do Washington',\n",
    "  'self': True},\n",
    " 'start': {'dateTime': '2020-03-19T21:00:00-03:00'},\n",
    " 'end': {'dateTime': '2020-03-19T21:30:00-03:00'},\n",
    " 'iCalUID': 'ean1ava7ieopsdc6gt44i94tj8@google.com',\n",
    " 'sequence': 0,\n",
    " 'reminders': {'useDefault': True}}\n",
    "```"
   ]
  }
 ],
 "metadata": {
  "kernelspec": {
   "display_name": "Python 3",
   "language": "python",
   "name": "python3"
  },
  "language_info": {
   "codemirror_mode": {
    "name": "ipython",
    "version": 3
   },
   "file_extension": ".py",
   "mimetype": "text/x-python",
   "name": "python",
   "nbconvert_exporter": "python",
   "pygments_lexer": "ipython3",
   "version": "3.8.2"
  }
 },
 "nbformat": 4,
 "nbformat_minor": 4
}
